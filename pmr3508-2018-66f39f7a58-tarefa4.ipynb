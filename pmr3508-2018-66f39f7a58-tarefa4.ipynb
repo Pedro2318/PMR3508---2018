{
 "cells": [
  {
   "cell_type": "markdown",
   "metadata": {},
   "source": [
    "[![](https://kaggle.com/static/images/open-in-kaggle.svg)](https://www.kaggle.com/code/pedro2318/pmr3508-2018-66f39f7a58-tarefa4)\n"
   ]
  },
  {
   "cell_type": "markdown",
   "metadata": {
    "_uuid": "1081c9cbcb9185004d7bc936e111beaa68328597"
   },
   "source": [
    "EP4- PMR3508-2018-66f39f7a58 Adult+\n",
    "\n",
    "FOI IMPORTADO INICIALMENTE AS BIBLIOTECAS QUE SE USARIAM E O ARQUIVO PARA TREINO DO CLASSIFICADOR."
   ]
  },
  {
   "cell_type": "code",
   "execution_count": 1,
   "metadata": {
    "_uuid": "68ef71c3febaf9cd9b76a9a0bb799f54be024b93",
    "execution": {
     "iopub.execute_input": "2023-01-28T02:34:33.409669Z",
     "iopub.status.busy": "2023-01-28T02:34:33.409130Z",
     "iopub.status.idle": "2023-01-28T02:34:34.584463Z",
     "shell.execute_reply": "2023-01-28T02:34:34.583357Z",
     "shell.execute_reply.started": "2023-01-28T02:34:33.409617Z"
    }
   },
   "outputs": [],
   "source": [
    "import numpy as np\n",
    "import pandas as pd\n",
    "import sklearn\n",
    "\n",
    "raw = pd.read_csv(\"../input/train_data.csv\",\n",
    "        names= None,\n",
    "        engine='python',\n",
    "        na_values = '?')"
   ]
  },
  {
   "cell_type": "code",
   "execution_count": 2,
   "metadata": {
    "_uuid": "dd640e4e19c6eefabbc3f9d8a1b18c5fb229b56a",
    "execution": {
     "iopub.execute_input": "2023-01-28T02:34:34.587126Z",
     "iopub.status.busy": "2023-01-28T02:34:34.586494Z",
     "iopub.status.idle": "2023-01-28T02:34:35.219087Z",
     "shell.execute_reply": "2023-01-28T02:34:35.218005Z",
     "shell.execute_reply.started": "2023-01-28T02:34:34.586977Z"
    }
   },
   "outputs": [
    {
     "name": "stdout",
     "output_type": "stream",
     "text": [
      "<class 'pandas.core.frame.DataFrame'>\n",
      "Int64Index: 30161 entries, 0 to 32559\n",
      "Data columns (total 16 columns):\n",
      "Id                30161 non-null int64\n",
      "age               30161 non-null int64\n",
      "workclass         30161 non-null object\n",
      "fnlwgt            30161 non-null int64\n",
      "education         30161 non-null object\n",
      "education.num     30161 non-null int64\n",
      "marital.status    30161 non-null object\n",
      "occupation        30161 non-null object\n",
      "relationship      30161 non-null object\n",
      "race              30161 non-null object\n",
      "sex               30161 non-null object\n",
      "capital.gain      30161 non-null int64\n",
      "capital.loss      30161 non-null int64\n",
      "hours.per.week    30161 non-null int64\n",
      "native.country    30161 non-null object\n",
      "income            30161 non-null object\n",
      "dtypes: int64(7), object(9)\n",
      "memory usage: 3.9+ MB\n"
     ]
    }
   ],
   "source": [
    "from sklearn import preprocessing\n",
    "clean = raw.dropna()\n",
    "clean.info()"
   ]
  },
  {
   "cell_type": "code",
   "execution_count": 3,
   "metadata": {
    "_uuid": "485ad5810e63f0cb33592714f8aa6ae507184790",
    "execution": {
     "iopub.execute_input": "2023-01-28T02:34:35.220981Z",
     "iopub.status.busy": "2023-01-28T02:34:35.220610Z",
     "iopub.status.idle": "2023-01-28T02:34:35.264739Z",
     "shell.execute_reply": "2023-01-28T02:34:35.262753Z",
     "shell.execute_reply.started": "2023-01-28T02:34:35.220910Z"
    }
   },
   "outputs": [
    {
     "data": {
      "text/plain": [
       "workclass          8\n",
       "education         16\n",
       "marital.status     7\n",
       "occupation        14\n",
       "relationship       6\n",
       "race               5\n",
       "sex                2\n",
       "native.country    41\n",
       "income             2\n",
       "dtype: int64"
      ]
     },
     "execution_count": 3,
     "metadata": {},
     "output_type": "execute_result"
    }
   ],
   "source": [
    "obg = raw[['workclass','education','marital.status','occupation','relationship','race','sex','native.country','income']]\n",
    "obg.nunique()"
   ]
  },
  {
   "cell_type": "code",
   "execution_count": 4,
   "metadata": {
    "_uuid": "ce28bd03dc9a2280d932997ec8222bdc648f785d",
    "execution": {
     "iopub.execute_input": "2023-01-28T02:34:35.267139Z",
     "iopub.status.busy": "2023-01-28T02:34:35.266666Z",
     "iopub.status.idle": "2023-01-28T02:34:35.707590Z",
     "shell.execute_reply": "2023-01-28T02:34:35.706263Z",
     "shell.execute_reply.started": "2023-01-28T02:34:35.266917Z"
    }
   },
   "outputs": [
    {
     "data": {
      "text/plain": [
       "<matplotlib.image.AxesImage at 0x7f62e948a668>"
      ]
     },
     "execution_count": 4,
     "metadata": {},
     "output_type": "execute_result"
    },
    {
     "data": {
      "image/png": "[encoded data removed]",
      "text/plain": [
       "<Figure size 288x288 with 1 Axes>"
      ]
     },
     "metadata": {},
     "output_type": "display_data"
    }
   ],
   "source": [
    "import matplotlib.pyplot as plt\n",
    "from sklearn import preprocessing\n",
    "analysis = clean\n",
    "analysis = analysis.apply(preprocessing.LabelEncoder().fit_transform)\n",
    "plt.matshow(analysis.corr())"
   ]
  },
  {
   "cell_type": "code",
   "execution_count": 5,
   "metadata": {
    "_uuid": "63307b03572fc86823f5f6586e23b56bc54d6ad7",
    "execution": {
     "iopub.execute_input": "2023-01-28T02:34:35.710343Z",
     "iopub.status.busy": "2023-01-28T02:34:35.709593Z",
     "iopub.status.idle": "2023-01-28T02:34:35.761933Z",
     "shell.execute_reply": "2023-01-28T02:34:35.760768Z",
     "shell.execute_reply.started": "2023-01-28T02:34:35.710262Z"
    }
   },
   "outputs": [
    {
     "data": {
      "text/plain": [
       "relationship     -0.251009\n",
       "marital.status   -0.193504\n",
       "fnlwgt           -0.009987\n",
       "Id               -0.002498\n",
       "workclass         0.018103\n",
       "native.country    0.023273\n",
       "occupation        0.051551\n",
       "race              0.071666\n",
       "education         0.078981\n",
       "capital.loss      0.162075\n",
       "sex               0.216715\n",
       "hours.per.week    0.232328\n",
       "age               0.242196\n",
       "education.num     0.335317\n",
       "capital.gain      0.337331\n",
       "income            1.000000\n",
       "Name: income, dtype: float64"
      ]
     },
     "execution_count": 5,
     "metadata": {},
     "output_type": "execute_result"
    }
   ],
   "source": [
    "anl0 = analysis.corr().income.sort_values(ascending=True)\n",
    "anl0"
   ]
  },
  {
   "cell_type": "code",
   "execution_count": 6,
   "metadata": {
    "_uuid": "0ad82f65e24134ecee15b8b7c6e87b8001c8834b",
    "execution": {
     "iopub.execute_input": "2023-01-28T02:34:35.763727Z",
     "iopub.status.busy": "2023-01-28T02:34:35.763434Z",
     "iopub.status.idle": "2023-01-28T02:34:35.848734Z",
     "shell.execute_reply": "2023-01-28T02:34:35.847577Z",
     "shell.execute_reply.started": "2023-01-28T02:34:35.763669Z"
    }
   },
   "outputs": [
    {
     "data": {
      "text/plain": [
       "income_<=50K                           -1.000000\n",
       "marital.status_Never-married           -0.320038\n",
       "relationship_Own-child                 -0.226196\n",
       "sex_Female                             -0.216715\n",
       "relationship_Not-in-family             -0.193236\n",
       "relationship_Unmarried                 -0.145807\n",
       "marital.status_Divorced                -0.132038\n",
       "relationship_Other-relative            -0.084461\n",
       "marital.status_Separated               -0.074060\n",
       "marital.status_Widowed                 -0.059100\n",
       "marital.status_Married-spouse-absent   -0.042565\n",
       "marital.status_Married-AF-spouse        0.013873\n",
       "relationship_Wife                       0.125122\n",
       "capital.loss                            0.150050\n",
       "sex_Male                                0.216715\n",
       "capital.gain                            0.221200\n",
       "hours.per.week                          0.229480\n",
       "age                                     0.242000\n",
       "education.num                           0.335317\n",
       "relationship_Husband                    0.401227\n",
       "marital.status_Married-civ-spouse       0.445409\n",
       "income_>50K                             1.000000\n",
       "Name: income_>50K, dtype: float64"
      ]
     },
     "execution_count": 6,
     "metadata": {},
     "output_type": "execute_result"
    }
   ],
   "source": [
    "anl1 = pd.get_dummies(clean[['relationship','marital.status','capital.loss', 'sex', 'hours.per.week', 'age', 'education.num', 'capital.gain', 'income']])\n",
    "anl1 = anl1.corr().loc[:,'income_>50K'].sort_values(ascending=True)\n",
    "anl1"
   ]
  },
  {
   "cell_type": "code",
   "execution_count": 7,
   "metadata": {
    "_uuid": "71a97105c6b7321024a36f5fa840b127c2f0456c",
    "execution": {
     "iopub.execute_input": "2023-01-28T02:34:35.850565Z",
     "iopub.status.busy": "2023-01-28T02:34:35.850258Z",
     "iopub.status.idle": "2023-01-28T02:34:36.781492Z",
     "shell.execute_reply": "2023-01-28T02:34:36.780419Z",
     "shell.execute_reply.started": "2023-01-28T02:34:35.850506Z"
    }
   },
   "outputs": [
    {
     "data": {
      "text/plain": [
       "income_<=50K                        -1.000000\n",
       "marital.status_Never-married        -0.320038\n",
       "relationship_Own-child              -0.226196\n",
       "sex_Female                          -0.216715\n",
       "relationship_Not-in-family          -0.193236\n",
       "occupation_Other-service            -0.165942\n",
       "capital.loss                         0.150050\n",
       "education_Prof-school                0.156471\n",
       "education_Masters                    0.174122\n",
       "education_Bachelors                  0.178905\n",
       "occupation_Prof-specialty            0.181452\n",
       "occupation_Exec-managerial           0.213436\n",
       "sex_Male                             0.216715\n",
       "capital.gain                         0.221200\n",
       "hours.per.week                       0.229480\n",
       "age                                  0.242000\n",
       "education.num                        0.335317\n",
       "relationship_Husband                 0.401227\n",
       "marital.status_Married-civ-spouse    0.445409\n",
       "income_>50K                          1.000000\n",
       "Name: income_>50K, dtype: float64"
      ]
     },
     "execution_count": 7,
     "metadata": {},
     "output_type": "execute_result"
    }
   ],
   "source": [
    "anl1_5 = pd.get_dummies(clean)\n",
    "anl1_5 = anl1_5.corr().loc[:,'income_>50K'].sort_values(ascending=True).where(lambda x : abs(x) > 0.15).dropna()\n",
    "anl1_5"
   ]
  },
  {
   "cell_type": "code",
   "execution_count": 8,
   "metadata": {
    "_uuid": "fdfb1c68b2d717bf8ae449614df19f332cc2fe16",
    "execution": {
     "iopub.execute_input": "2023-01-28T02:34:36.782751Z",
     "iopub.status.busy": "2023-01-28T02:34:36.782526Z",
     "iopub.status.idle": "2023-01-28T02:34:36.837652Z",
     "shell.execute_reply": "2023-01-28T02:34:36.836751Z",
     "shell.execute_reply.started": "2023-01-28T02:34:36.782713Z"
    }
   },
   "outputs": [
    {
     "data": {
      "text/plain": [
       "occupation_Other-service       -0.165942\n",
       "occupation_Adm-clerical        -0.099811\n",
       "occupation_Handlers-cleaners   -0.093841\n",
       "race_Black                     -0.088338\n",
       "occupation_Prof-specialty       0.181452\n",
       "occupation_Exec-managerial      0.213436\n",
       "income_>50K                     1.000000\n",
       "Name: income_>50K, dtype: float64"
      ]
     },
     "execution_count": 8,
     "metadata": {},
     "output_type": "execute_result"
    }
   ],
   "source": [
    "anl2 = clean[['occupation','income','race']]\n",
    "anl2 = pd.get_dummies(anl2).drop(columns = 'income_<=50K')\n",
    "anl2 = anl2.corr().loc[:,'income_>50K'].sort_values(ascending=True).where(lambda x : abs(x) > 0.088).dropna()\n",
    "anl2"
   ]
  },
  {
   "cell_type": "code",
   "execution_count": 9,
   "metadata": {
    "_uuid": "f6a07fb6ed73c6c5df881798ee3458954cc7307a",
    "execution": {
     "iopub.execute_input": "2023-01-28T02:34:36.839246Z",
     "iopub.status.busy": "2023-01-28T02:34:36.838988Z",
     "iopub.status.idle": "2023-01-28T02:34:36.887887Z",
     "shell.execute_reply": "2023-01-28T02:34:36.887085Z",
     "shell.execute_reply.started": "2023-01-28T02:34:36.839201Z"
    }
   },
   "outputs": [],
   "source": [
    "train_clean = pd.get_dummies(clean)\n",
    "index = anl1.where(lambda x : abs(x) > 0.07).dropna().index[1:-1].append(anl2.index[:-1])"
   ]
  },
  {
   "cell_type": "code",
   "execution_count": 10,
   "metadata": {
    "_uuid": "1ac905c52bb4a8bd9f77aa1ce2646308d2a3ec7d",
    "execution": {
     "iopub.execute_input": "2023-01-28T02:34:36.889350Z",
     "iopub.status.busy": "2023-01-28T02:34:36.888962Z",
     "iopub.status.idle": "2023-01-28T02:34:37.075964Z",
     "shell.execute_reply": "2023-01-28T02:34:37.074792Z",
     "shell.execute_reply.started": "2023-01-28T02:34:36.889176Z"
    }
   },
   "outputs": [],
   "source": [
    "test_raw = pd.read_csv(\"../input/test_data.csv\",\n",
    "        names= None,\n",
    "        engine='python')"
   ]
  },
  {
   "cell_type": "code",
   "execution_count": 11,
   "metadata": {
    "_uuid": "1bc0696ac49ec1d84ee2eb61143232201cd7bdc3",
    "execution": {
     "iopub.execute_input": "2023-01-28T02:34:37.078348Z",
     "iopub.status.busy": "2023-01-28T02:34:37.078030Z",
     "iopub.status.idle": "2023-01-28T02:34:37.091403Z",
     "shell.execute_reply": "2023-01-28T02:34:37.090238Z",
     "shell.execute_reply.started": "2023-01-28T02:34:37.078292Z"
    }
   },
   "outputs": [],
   "source": [
    "X_train = train_clean[index].drop(columns='sex_Female')\n",
    "Y_train = train_clean.loc[:,'income_>50K']"
   ]
  },
  {
   "cell_type": "code",
   "execution_count": 12,
   "metadata": {
    "_uuid": "69df0be5df6b1286ae0c25b2426b90d7e6008b34",
    "execution": {
     "iopub.execute_input": "2023-01-28T02:34:37.093413Z",
     "iopub.status.busy": "2023-01-28T02:34:37.093056Z",
     "iopub.status.idle": "2023-01-28T02:34:37.190537Z",
     "shell.execute_reply": "2023-01-28T02:34:37.189714Z",
     "shell.execute_reply.started": "2023-01-28T02:34:37.093354Z"
    }
   },
   "outputs": [],
   "source": [
    "test_clean = pd.get_dummies(test_raw)\n",
    "test_clean = test_clean.dropna()\n",
    "X_test = test_clean[index].drop(columns='sex_Female')"
   ]
  },
  {
   "cell_type": "code",
   "execution_count": 13,
   "metadata": {
    "_uuid": "36c7e62bc6159cd337d11fab010b65e8c948d37b",
    "execution": {
     "iopub.execute_input": "2023-01-28T02:34:37.191778Z",
     "iopub.status.busy": "2023-01-28T02:34:37.191532Z",
     "iopub.status.idle": "2023-01-28T02:34:37.213006Z",
     "shell.execute_reply": "2023-01-28T02:34:37.212074Z",
     "shell.execute_reply.started": "2023-01-28T02:34:37.191735Z"
    }
   },
   "outputs": [
    {
     "name": "stdout",
     "output_type": "stream",
     "text": [
      "<class 'pandas.core.frame.DataFrame'>\n",
      "Int64Index: 16280 entries, 0 to 16279\n",
      "Data columns (total 22 columns):\n",
      "marital.status_Never-married         16280 non-null uint8\n",
      "relationship_Own-child               16280 non-null uint8\n",
      "relationship_Not-in-family           16280 non-null uint8\n",
      "relationship_Unmarried               16280 non-null uint8\n",
      "marital.status_Divorced              16280 non-null uint8\n",
      "relationship_Other-relative          16280 non-null uint8\n",
      "marital.status_Separated             16280 non-null uint8\n",
      "relationship_Wife                    16280 non-null uint8\n",
      "capital.loss                         16280 non-null int64\n",
      "sex_Male                             16280 non-null uint8\n",
      "capital.gain                         16280 non-null int64\n",
      "hours.per.week                       16280 non-null int64\n",
      "age                                  16280 non-null int64\n",
      "education.num                        16280 non-null int64\n",
      "relationship_Husband                 16280 non-null uint8\n",
      "marital.status_Married-civ-spouse    16280 non-null uint8\n",
      "occupation_Other-service             16280 non-null uint8\n",
      "occupation_Adm-clerical              16280 non-null uint8\n",
      "occupation_Handlers-cleaners         16280 non-null uint8\n",
      "race_Black                           16280 non-null uint8\n",
      "occupation_Prof-specialty            16280 non-null uint8\n",
      "occupation_Exec-managerial           16280 non-null uint8\n",
      "dtypes: int64(5), uint8(17)\n",
      "memory usage: 1.0 MB\n"
     ]
    }
   ],
   "source": [
    "X_test.info()"
   ]
  },
  {
   "cell_type": "markdown",
   "metadata": {
    "_uuid": "3367f7bf259f79bfa6f0efb315a6982f6f83f4ed"
   },
   "source": [
    "1. KNN (K- Nearest Neighbors)"
   ]
  },
  {
   "cell_type": "code",
   "execution_count": 14,
   "metadata": {
    "_uuid": "858e564e330e27c87c4f64f4f01c1c3eb046ea54",
    "execution": {
     "iopub.execute_input": "2023-01-28T02:34:37.215006Z",
     "iopub.status.busy": "2023-01-28T02:34:37.214636Z",
     "iopub.status.idle": "2023-01-28T02:34:45.660266Z",
     "shell.execute_reply": "2023-01-28T02:34:45.658621Z",
     "shell.execute_reply.started": "2023-01-28T02:34:37.214955Z"
    }
   },
   "outputs": [
    {
     "data": {
      "text/plain": [
       "0.8781539073638142"
      ]
     },
     "execution_count": 14,
     "metadata": {},
     "output_type": "execute_result"
    }
   ],
   "source": [
    "from sklearn.neighbors import KNeighborsClassifier\n",
    "model = KNeighborsClassifier(n_neighbors=6)\n",
    "model.fit(X_train,Y_train)\n",
    "model.score(X_train,Y_train)\n"
   ]
  },
  {
   "cell_type": "code",
   "execution_count": 15,
   "metadata": {
    "_uuid": "fbc05d5f99c123e4b1d498ea82fc694132acd915",
    "execution": {
     "iopub.execute_input": "2023-01-28T02:34:45.662132Z",
     "iopub.status.busy": "2023-01-28T02:34:45.661851Z",
     "iopub.status.idle": "2023-01-28T02:34:49.203343Z",
     "shell.execute_reply": "2023-01-28T02:34:49.202002Z",
     "shell.execute_reply.started": "2023-01-28T02:34:45.662078Z"
    }
   },
   "outputs": [],
   "source": [
    "Y_test_1 = model.predict(X_test)\n"
   ]
  },
  {
   "cell_type": "code",
   "execution_count": 16,
   "metadata": {
    "_uuid": "f31332d1dd323c94697df55b95d4f5c3fe575c76",
    "execution": {
     "iopub.execute_input": "2023-01-28T02:34:49.205493Z",
     "iopub.status.busy": "2023-01-28T02:34:49.205131Z",
     "iopub.status.idle": "2023-01-28T02:34:49.239956Z",
     "shell.execute_reply": "2023-01-28T02:34:49.238934Z",
     "shell.execute_reply.started": "2023-01-28T02:34:49.205440Z"
    }
   },
   "outputs": [
    {
     "data": {
      "text/plain": [
       "array([['0', '<=50K'],\n",
       "       ['1', '>50K'],\n",
       "       ['2', '<=50K'],\n",
       "       ...,\n",
       "       ['16277', '<=50K'],\n",
       "       ['16278', '<=50K'],\n",
       "       ['16279', '>50K']], dtype='<U21')"
      ]
     },
     "execution_count": 16,
     "metadata": {},
     "output_type": "execute_result"
    }
   ],
   "source": [
    "Y_test_1_copy = Y_test_1\n",
    "Y_test_1_copy = Y_test_1_copy.tolist()\n",
    "answer = [[\"Id\",\"income\"]]\n",
    "for output in range(len(Y_test_1_copy)):\n",
    "    if Y_test_1_copy[output] == 0:\n",
    "        Y_test_1_copy[output] = '<=50K'\n",
    "    else:\n",
    "        Y_test_1_copy[output] = '>50K'\n",
    "    answer.append([output,Y_test_1_copy[output]])\n",
    "result1 = np.vstack((test_raw[\"Id\"],Y_test_1_copy)).T\n",
    "result1"
   ]
  },
  {
   "cell_type": "markdown",
   "metadata": {
    "_uuid": "142422d6e1b8a7f057f4df1d37f13a28cc96aa94"
   },
   "source": [
    "2. Regressão Linear"
   ]
  },
  {
   "cell_type": "code",
   "execution_count": 17,
   "metadata": {
    "_uuid": "77b19df6dea281ccf35677ea4a5ee8b42fc814fd",
    "execution": {
     "iopub.execute_input": "2023-01-28T02:34:49.241334Z",
     "iopub.status.busy": "2023-01-28T02:34:49.241040Z",
     "iopub.status.idle": "2023-01-28T02:34:49.536373Z",
     "shell.execute_reply": "2023-01-28T02:34:49.535432Z",
     "shell.execute_reply.started": "2023-01-28T02:34:49.241287Z"
    }
   },
   "outputs": [
    {
     "data": {
      "text/plain": [
       "0.35294487737398417"
      ]
     },
     "execution_count": 17,
     "metadata": {},
     "output_type": "execute_result"
    }
   ],
   "source": [
    "from sklearn import linear_model\n",
    "\n",
    "linear = linear_model.LinearRegression()\n",
    "\n",
    "linear.fit(X_train,Y_train)\n",
    "\n",
    "linear.score(X_train,Y_train)\n",
    "\n"
   ]
  },
  {
   "cell_type": "code",
   "execution_count": 18,
   "metadata": {
    "_uuid": "17637d3753be1122150e096774abf2ea0447b482",
    "execution": {
     "iopub.execute_input": "2023-01-28T02:34:49.538592Z",
     "iopub.status.busy": "2023-01-28T02:34:49.538312Z",
     "iopub.status.idle": "2023-01-28T02:34:49.552883Z",
     "shell.execute_reply": "2023-01-28T02:34:49.551254Z",
     "shell.execute_reply.started": "2023-01-28T02:34:49.538550Z"
    }
   },
   "outputs": [],
   "source": [
    "Y_test_2 = linear.predict(X_test)"
   ]
  },
  {
   "cell_type": "code",
   "execution_count": 19,
   "metadata": {
    "_uuid": "251e2c6e5231c70322f579bc363a8f0de27a5cf4",
    "execution": {
     "iopub.execute_input": "2023-01-28T02:34:49.555534Z",
     "iopub.status.busy": "2023-01-28T02:34:49.554808Z",
     "iopub.status.idle": "2023-01-28T02:34:49.641304Z",
     "shell.execute_reply": "2023-01-28T02:34:49.639988Z",
     "shell.execute_reply.started": "2023-01-28T02:34:49.555228Z"
    }
   },
   "outputs": [
    {
     "data": {
      "text/plain": [
       "array([['0', '>50K'],\n",
       "       ['1', '>50K'],\n",
       "       ['2', '>50K'],\n",
       "       ...,\n",
       "       ['16277', '>50K'],\n",
       "       ['16278', '>50K'],\n",
       "       ['16279', '>50K']], dtype='<U21')"
      ]
     },
     "execution_count": 19,
     "metadata": {},
     "output_type": "execute_result"
    }
   ],
   "source": [
    "Y_test_2_copy = Y_test_2\n",
    "Y_test_2_copy = Y_test_2_copy.tolist()\n",
    "answer = [[\"Id\",\"income\"]]\n",
    "for output in range(len(Y_test_2_copy)):\n",
    "    if Y_test_2_copy[output] == 0:\n",
    "        Y_test_2_copy[output] = '<=50K'\n",
    "    else:\n",
    "        Y_test_2_copy[output] = '>50K'\n",
    "    answer.append([output,Y_test_2_copy[output]])\n",
    "result2 = np.vstack((test_raw[\"Id\"],Y_test_2_copy)).T\n",
    "result2"
   ]
  },
  {
   "cell_type": "markdown",
   "metadata": {
    "_uuid": "6b17e11e7526e430263e816f056e88e6bb266707"
   },
   "source": [
    "3. Regressão Logística"
   ]
  },
  {
   "cell_type": "code",
   "execution_count": 20,
   "metadata": {
    "_uuid": "ed813479faa29d1166e6668828fbda6a5d2c0487",
    "execution": {
     "iopub.execute_input": "2023-01-28T03:03:21.082483Z",
     "iopub.status.busy": "2023-01-28T03:03:21.082120Z",
     "iopub.status.idle": "2023-01-28T03:03:21.454010Z",
     "shell.execute_reply": "2023-01-28T03:03:21.452786Z",
     "shell.execute_reply.started": "2023-01-28T03:03:21.082417Z"
    }
   },
   "outputs": [
    {
     "data": {
      "text/plain": [
       "0.8431086502436922"
      ]
     },
     "execution_count": 20,
     "metadata": {},
     "output_type": "execute_result"
    }
   ],
   "source": [
    "from sklearn.linear_model import LogisticRegression\n",
    "\n",
    "logmodel = model = LogisticRegression(solver='liblinear')\n",
    "logmodel.fit(X_train,Y_train)\n",
    "logmodel.score(X_train,Y_train)\n",
    "\n"
   ]
  },
  {
   "cell_type": "code",
   "execution_count": 21,
   "metadata": {
    "_uuid": "43ae88afcf58cb43c35b62c8d2cb28b2f90436eb",
    "execution": {
     "iopub.execute_input": "2023-01-28T02:34:50.046874Z",
     "iopub.status.busy": "2023-01-28T02:34:50.045968Z",
     "iopub.status.idle": "2023-01-28T02:34:50.058416Z",
     "shell.execute_reply": "2023-01-28T02:34:50.056909Z",
     "shell.execute_reply.started": "2023-01-28T02:34:50.046782Z"
    }
   },
   "outputs": [],
   "source": [
    "Y_test_3= logmodel.predict(X_test)"
   ]
  },
  {
   "cell_type": "code",
   "execution_count": 22,
   "metadata": {
    "_uuid": "9b7e72f34a77df0fbecc4b082f3fc7b58bb2c528",
    "execution": {
     "iopub.execute_input": "2023-01-28T02:34:50.062579Z",
     "iopub.status.busy": "2023-01-28T02:34:50.060805Z",
     "iopub.status.idle": "2023-01-28T02:34:50.147706Z",
     "shell.execute_reply": "2023-01-28T02:34:50.146415Z",
     "shell.execute_reply.started": "2023-01-28T02:34:50.062222Z"
    }
   },
   "outputs": [
    {
     "data": {
      "text/plain": [
       "array([['0', '<=50K'],\n",
       "       ['1', '>50K'],\n",
       "       ['2', '<=50K'],\n",
       "       ...,\n",
       "       ['16277', '<=50K'],\n",
       "       ['16278', '<=50K'],\n",
       "       ['16279', '>50K']], dtype='<U21')"
      ]
     },
     "execution_count": 22,
     "metadata": {},
     "output_type": "execute_result"
    }
   ],
   "source": [
    "Y_test_3_copy = Y_test_3\n",
    "Y_test_3_copy = Y_test_3_copy.tolist()\n",
    "answer = [[\"Id\",\"income\"]]\n",
    "for output in range(len(Y_test_3_copy)):\n",
    "    if Y_test_3_copy[output] == 0:\n",
    "        Y_test_3_copy[output] = '<=50K'\n",
    "    else:\n",
    "        Y_test_3_copy[output] = '>50K'\n",
    "    answer.append([output,Y_test_3_copy[output]])\n",
    "result3 = np.vstack((test_raw[\"Id\"],Y_test_3_copy)).T\n",
    "result3"
   ]
  },
  {
   "cell_type": "markdown",
   "metadata": {
    "_uuid": "f63b90672c8483aaa8d4ab84e35893772fa2fd82"
   },
   "source": [
    "4. Árvore de Decisão"
   ]
  },
  {
   "cell_type": "code",
   "execution_count": 23,
   "metadata": {
    "_uuid": "a88e5fa396c762acec969905905e33e80e01dfa5",
    "execution": {
     "iopub.execute_input": "2023-01-28T02:34:50.151178Z",
     "iopub.status.busy": "2023-01-28T02:34:50.150268Z",
     "iopub.status.idle": "2023-01-28T02:34:50.334542Z",
     "shell.execute_reply": "2023-01-28T02:34:50.333779Z",
     "shell.execute_reply.started": "2023-01-28T02:34:50.151061Z"
    }
   },
   "outputs": [
    {
     "data": {
      "text/plain": [
       "0.9450946586651636"
      ]
     },
     "execution_count": 23,
     "metadata": {},
     "output_type": "execute_result"
    }
   ],
   "source": [
    "from sklearn import tree\n",
    "\n",
    "treemodel = tree.DecisionTreeClassifier(criterion='gini') \n",
    "treemodel.fit(X_train,Y_train)\n",
    "treemodel.score(X_train,Y_train)\n"
   ]
  },
  {
   "cell_type": "code",
   "execution_count": 24,
   "metadata": {
    "_uuid": "66551f2b90acdf476e8c35a23dd0033340dc11b4",
    "execution": {
     "iopub.execute_input": "2023-01-28T02:34:50.336121Z",
     "iopub.status.busy": "2023-01-28T02:34:50.335684Z",
     "iopub.status.idle": "2023-01-28T02:34:53.814611Z",
     "shell.execute_reply": "2023-01-28T02:34:53.813901Z",
     "shell.execute_reply.started": "2023-01-28T02:34:50.336077Z"
    }
   },
   "outputs": [],
   "source": [
    "Y_test_4= model.predict(X_test)"
   ]
  },
  {
   "cell_type": "code",
   "execution_count": 25,
   "metadata": {
    "_uuid": "0a8b9b88f905cdb4685f60413e09176d33e89daa",
    "execution": {
     "iopub.execute_input": "2023-01-28T02:34:53.816299Z",
     "iopub.status.busy": "2023-01-28T02:34:53.815854Z",
     "iopub.status.idle": "2023-01-28T02:34:53.847348Z",
     "shell.execute_reply": "2023-01-28T02:34:53.846304Z",
     "shell.execute_reply.started": "2023-01-28T02:34:53.816254Z"
    }
   },
   "outputs": [
    {
     "data": {
      "text/plain": [
       "array([['0', '<=50K'],\n",
       "       ['1', '>50K'],\n",
       "       ['2', '<=50K'],\n",
       "       ...,\n",
       "       ['16277', '<=50K'],\n",
       "       ['16278', '<=50K'],\n",
       "       ['16279', '>50K']], dtype='<U21')"
      ]
     },
     "execution_count": 25,
     "metadata": {},
     "output_type": "execute_result"
    }
   ],
   "source": [
    "Y_test_4_copy = Y_test_4\n",
    "Y_test_4_copy = Y_test_4_copy.tolist()\n",
    "answer = [[\"Id\",\"income\"]]\n",
    "for output in range(len(Y_test_4_copy)):\n",
    "    if Y_test_4_copy[output] == 0:\n",
    "        Y_test_4_copy[output] = '<=50K'\n",
    "    else:\n",
    "        Y_test_4_copy[output] = '>50K'\n",
    "    answer.append([output,Y_test_4_copy[output]])\n",
    "result4 = np.vstack((test_raw[\"Id\"],Y_test_4_copy)).T\n",
    "result4"
   ]
  },
  {
   "cell_type": "markdown",
   "metadata": {
    "_uuid": "3867def0ab72d7ce7971a932abc94e9ffcecc810"
   },
   "source": [
    "5. VMS (Máquina de Vetor de Suporte)"
   ]
  },
  {
   "cell_type": "code",
   "execution_count": 26,
   "metadata": {
    "_uuid": "3722b7e973b4631b01560c3b976797bdf7d4baad",
    "execution": {
     "iopub.execute_input": "2023-01-28T02:34:53.848783Z",
     "iopub.status.busy": "2023-01-28T02:34:53.848532Z",
     "iopub.status.idle": "2023-01-28T02:36:27.889729Z",
     "shell.execute_reply": "2023-01-28T02:36:27.888650Z",
     "shell.execute_reply.started": "2023-01-28T02:34:53.848733Z"
    }
   },
   "outputs": [
    {
     "data": {
      "text/plain": [
       "0.8711249627001757"
      ]
     },
     "execution_count": 26,
     "metadata": {},
     "output_type": "execute_result"
    }
   ],
   "source": [
    "from sklearn.svm import SVC\n",
    "\n",
    "svmmodel = SVC(gamma='auto') \n",
    "svmmodel.fit(X_train,Y_train)\n",
    "svmmodel.score(X_train,Y_train)\n"
   ]
  },
  {
   "cell_type": "code",
   "execution_count": 27,
   "metadata": {
    "_uuid": "4f986014b1958b7a96be9847176342cff43e94a8",
    "execution": {
     "iopub.execute_input": "2023-01-28T02:36:27.891480Z",
     "iopub.status.busy": "2023-01-28T02:36:27.890993Z",
     "iopub.status.idle": "2023-01-28T02:36:40.265729Z",
     "shell.execute_reply": "2023-01-28T02:36:40.264926Z",
     "shell.execute_reply.started": "2023-01-28T02:36:27.891419Z"
    }
   },
   "outputs": [],
   "source": [
    "Y_test_5= svmmodel.predict(X_test)"
   ]
  },
  {
   "cell_type": "code",
   "execution_count": 28,
   "metadata": {
    "_uuid": "ddf6d7f657c14086bf254d1aadbf60d74829d443",
    "execution": {
     "iopub.execute_input": "2023-01-28T02:36:40.267346Z",
     "iopub.status.busy": "2023-01-28T02:36:40.267017Z",
     "iopub.status.idle": "2023-01-28T02:36:40.301994Z",
     "shell.execute_reply": "2023-01-28T02:36:40.301036Z",
     "shell.execute_reply.started": "2023-01-28T02:36:40.267281Z"
    }
   },
   "outputs": [
    {
     "data": {
      "text/plain": [
       "array([['0', '<=50K'],\n",
       "       ['1', '>50K'],\n",
       "       ['2', '<=50K'],\n",
       "       ...,\n",
       "       ['16277', '<=50K'],\n",
       "       ['16278', '<=50K'],\n",
       "       ['16279', '>50K']], dtype='<U21')"
      ]
     },
     "execution_count": 28,
     "metadata": {},
     "output_type": "execute_result"
    }
   ],
   "source": [
    "Y_test_5_copy = Y_test_5\n",
    "Y_test_5_copy = Y_test_5_copy.tolist()\n",
    "answer = [[\"Id\",\"income\"]]\n",
    "for output in range(len(Y_test_5_copy)):\n",
    "    if Y_test_5_copy[output] == 0:\n",
    "        Y_test_5_copy[output] = '<=50K'\n",
    "    else:\n",
    "        Y_test_5_copy[output] = '>50K'\n",
    "    answer.append([output,Y_test_5_copy[output]])\n",
    "result5 = np.vstack((test_raw[\"Id\"],Y_test_5_copy)).T\n",
    "result5"
   ]
  },
  {
   "cell_type": "markdown",
   "metadata": {
    "_uuid": "51d6b42454bdc1a9a7772473e0523db71fe69073"
   },
   "source": [
    "6. Naive Bayes"
   ]
  },
  {
   "cell_type": "code",
   "execution_count": 29,
   "metadata": {
    "_uuid": "978bea4120b27766b79dd35dfce9b0b2eb6aec1d",
    "execution": {
     "iopub.execute_input": "2023-01-28T02:36:40.304013Z",
     "iopub.status.busy": "2023-01-28T02:36:40.303657Z",
     "iopub.status.idle": "2023-01-28T02:36:40.352858Z",
     "shell.execute_reply": "2023-01-28T02:36:40.351868Z",
     "shell.execute_reply.started": "2023-01-28T02:36:40.303943Z"
    }
   },
   "outputs": [
    {
     "data": {
      "text/plain": [
       "0.7923145784290971"
      ]
     },
     "execution_count": 29,
     "metadata": {},
     "output_type": "execute_result"
    }
   ],
   "source": [
    "from sklearn.naive_bayes import GaussianNB\n",
    "\n",
    "NBmodel = GaussianNB() \n",
    "NBmodel.fit(X_train,Y_train)\n",
    "NBmodel.score(X_train,Y_train)\n"
   ]
  },
  {
   "cell_type": "code",
   "execution_count": 30,
   "metadata": {
    "_uuid": "45d8e26414cb636ecf40d641e05e07f683ddb4ea",
    "execution": {
     "iopub.execute_input": "2023-01-28T02:36:40.354479Z",
     "iopub.status.busy": "2023-01-28T02:36:40.354143Z",
     "iopub.status.idle": "2023-01-28T02:36:40.363680Z",
     "shell.execute_reply": "2023-01-28T02:36:40.362720Z",
     "shell.execute_reply.started": "2023-01-28T02:36:40.354426Z"
    }
   },
   "outputs": [],
   "source": [
    "Y_test_6= NBmodel.predict(X_test)"
   ]
  },
  {
   "cell_type": "code",
   "execution_count": 31,
   "metadata": {
    "_uuid": "18098fdf4467d5a857ceb146b0e24f6c370271d2",
    "execution": {
     "iopub.execute_input": "2023-01-28T02:36:40.365347Z",
     "iopub.status.busy": "2023-01-28T02:36:40.365002Z",
     "iopub.status.idle": "2023-01-28T02:36:40.396902Z",
     "shell.execute_reply": "2023-01-28T02:36:40.396089Z",
     "shell.execute_reply.started": "2023-01-28T02:36:40.365294Z"
    }
   },
   "outputs": [
    {
     "data": {
      "text/plain": [
       "array([['0', '<=50K'],\n",
       "       ['1', '>50K'],\n",
       "       ['2', '<=50K'],\n",
       "       ...,\n",
       "       ['16277', '<=50K'],\n",
       "       ['16278', '<=50K'],\n",
       "       ['16279', '>50K']], dtype='<U21')"
      ]
     },
     "execution_count": 31,
     "metadata": {},
     "output_type": "execute_result"
    }
   ],
   "source": [
    "Y_test_6_copy = Y_test_6\n",
    "Y_test_6_copy = Y_test_6_copy.tolist()\n",
    "answer = [[\"Id\",\"income\"]]\n",
    "for output in range(len(Y_test_6_copy)):\n",
    "    if Y_test_6_copy[output] == 0:\n",
    "        Y_test_6_copy[output] = '<=50K'\n",
    "    else:\n",
    "        Y_test_6_copy[output] = '>50K'\n",
    "    answer.append([output,Y_test_6_copy[output]])\n",
    "result6 = np.vstack((test_raw[\"Id\"],Y_test_6_copy)).T\n",
    "result6"
   ]
  },
  {
   "cell_type": "markdown",
   "metadata": {
    "_uuid": "bc4f4d57e7933b76502ebf097386fcbe65daec70"
   },
   "source": [
    "7. K-Means"
   ]
  },
  {
   "cell_type": "code",
   "execution_count": 32,
   "metadata": {
    "_uuid": "a4e3cce204ecb0522bad3cf25ce99dcaa499d5ba",
    "execution": {
     "iopub.execute_input": "2023-01-28T02:36:40.398393Z",
     "iopub.status.busy": "2023-01-28T02:36:40.398147Z",
     "iopub.status.idle": "2023-01-28T02:36:40.759551Z",
     "shell.execute_reply": "2023-01-28T02:36:40.758256Z",
     "shell.execute_reply.started": "2023-01-28T02:36:40.398349Z"
    }
   },
   "outputs": [
    {
     "data": {
      "text/plain": [
       "-204423665576.01273"
      ]
     },
     "execution_count": 32,
     "metadata": {},
     "output_type": "execute_result"
    }
   ],
   "source": [
    "from sklearn.cluster import KMeans\n",
    "\n",
    "KMmodel = KMeans(n_clusters=2, random_state=0)\n",
    "KMmodel.fit(X_train,Y_train)\n",
    "KMmodel.score(X_train,Y_train)\n",
    "\n"
   ]
  },
  {
   "cell_type": "code",
   "execution_count": 33,
   "metadata": {
    "_uuid": "fbdfb16ddddeace714bc674603e2d47d27cd429a",
    "execution": {
     "iopub.execute_input": "2023-01-28T02:36:40.762369Z",
     "iopub.status.busy": "2023-01-28T02:36:40.761600Z",
     "iopub.status.idle": "2023-01-28T02:36:40.782718Z",
     "shell.execute_reply": "2023-01-28T02:36:40.780669Z",
     "shell.execute_reply.started": "2023-01-28T02:36:40.762279Z"
    }
   },
   "outputs": [],
   "source": [
    "Y_test_7= KMmodel.predict(X_test)"
   ]
  },
  {
   "cell_type": "code",
   "execution_count": 34,
   "metadata": {
    "_uuid": "972ed8546ea4ed90784425b977c58d57b46d2143",
    "execution": {
     "iopub.execute_input": "2023-01-28T02:36:40.785910Z",
     "iopub.status.busy": "2023-01-28T02:36:40.785185Z",
     "iopub.status.idle": "2023-01-28T02:36:40.959962Z",
     "shell.execute_reply": "2023-01-28T02:36:40.958971Z",
     "shell.execute_reply.started": "2023-01-28T02:36:40.785604Z"
    }
   },
   "outputs": [
    {
     "data": {
      "text/plain": [
       "array([['0', '<=50K'],\n",
       "       ['1', '<=50K'],\n",
       "       ['2', '<=50K'],\n",
       "       ...,\n",
       "       ['16277', '<=50K'],\n",
       "       ['16278', '<=50K'],\n",
       "       ['16279', '<=50K']], dtype='<U21')"
      ]
     },
     "execution_count": 34,
     "metadata": {},
     "output_type": "execute_result"
    }
   ],
   "source": [
    "Y_test_7_copy = Y_test_7\n",
    "Y_test_7_copy = Y_test_7_copy.tolist()\n",
    "answer = [[\"Id\",\"income\"]]\n",
    "for output in range(len(Y_test_7_copy)):\n",
    "    if Y_test_7_copy[output] == 0:\n",
    "        Y_test_7_copy[output] = '<=50K'\n",
    "    else:\n",
    "        Y_test_7_copy[output] = '>50K'\n",
    "    answer.append([output,Y_test_7_copy[output]])\n",
    "result7 = np.vstack((test_raw[\"Id\"],Y_test_7_copy)).T\n",
    "result7"
   ]
  },
  {
   "cell_type": "markdown",
   "metadata": {
    "_uuid": "80de2e0c95a877c2c52acd0055400df192588db4"
   },
   "source": [
    "8. Floresta Aleatória"
   ]
  },
  {
   "cell_type": "code",
   "execution_count": 35,
   "metadata": {
    "_uuid": "554f45c771367f1511685536346318afea411481",
    "execution": {
     "iopub.execute_input": "2023-01-28T03:05:03.642058Z",
     "iopub.status.busy": "2023-01-28T03:05:03.641705Z",
     "iopub.status.idle": "2023-01-28T03:05:07.686345Z",
     "shell.execute_reply": "2023-01-28T03:05:07.685632Z",
     "shell.execute_reply.started": "2023-01-28T03:05:03.641994Z"
    }
   },
   "outputs": [
    {
     "data": {
      "text/plain": [
       "0.9450946586651636"
      ]
     },
     "execution_count": 35,
     "metadata": {},
     "output_type": "execute_result"
    }
   ],
   "source": [
    "from sklearn.ensemble import RandomForestClassifier\n",
    "\n",
    "RFmodel= RandomForestClassifier(n_estimators=100)\n",
    "\n",
    "RFmodel.fit(X_train,Y_train)\n",
    "RFmodel.score(X_train,Y_train)\n"
   ]
  },
  {
   "cell_type": "code",
   "execution_count": 36,
   "metadata": {
    "_uuid": "8bd4ab83758fdc9c8691f8976980c78ffee26b15",
    "execution": {
     "iopub.execute_input": "2023-01-28T02:36:41.408251Z",
     "iopub.status.busy": "2023-01-28T02:36:41.407803Z",
     "iopub.status.idle": "2023-01-28T02:36:41.459567Z",
     "shell.execute_reply": "2023-01-28T02:36:41.458625Z",
     "shell.execute_reply.started": "2023-01-28T02:36:41.408149Z"
    }
   },
   "outputs": [],
   "source": [
    "Y_test_8= RFmodel.predict(X_test)"
   ]
  },
  {
   "cell_type": "code",
   "execution_count": 37,
   "metadata": {
    "_uuid": "72a1ff559b200aa9d9e0410a5011c4834cda6079",
    "execution": {
     "iopub.execute_input": "2023-01-28T02:36:41.461108Z",
     "iopub.status.busy": "2023-01-28T02:36:41.460843Z",
     "iopub.status.idle": "2023-01-28T02:36:41.493227Z",
     "shell.execute_reply": "2023-01-28T02:36:41.492276Z",
     "shell.execute_reply.started": "2023-01-28T02:36:41.461061Z"
    }
   },
   "outputs": [
    {
     "data": {
      "text/plain": [
       "array([['0', '<=50K'],\n",
       "       ['1', '>50K'],\n",
       "       ['2', '<=50K'],\n",
       "       ...,\n",
       "       ['16277', '<=50K'],\n",
       "       ['16278', '<=50K'],\n",
       "       ['16279', '>50K']], dtype='<U21')"
      ]
     },
     "execution_count": 37,
     "metadata": {},
     "output_type": "execute_result"
    }
   ],
   "source": [
    "Y_test_8_copy = Y_test_8\n",
    "Y_test_8_copy = Y_test_8_copy.tolist()\n",
    "answer = [[\"Id\",\"income\"]]\n",
    "for output in range(len(Y_test_8_copy)):\n",
    "    if Y_test_8_copy[output] == 0:\n",
    "        Y_test_8_copy[output] = '<=50K'\n",
    "    else:\n",
    "        Y_test_8_copy[output] = '>50K'\n",
    "    answer.append([output,Y_test_8_copy[output]])\n",
    "result8 = np.vstack((test_raw[\"Id\"],Y_test_8_copy)).T\n",
    "result8"
   ]
  },
  {
   "cell_type": "markdown",
   "metadata": {
    "_uuid": "f3bbc91fb9323d8d6d3457fd0a87bab028405511"
   },
   "source": [
    "9. Gradient Boosting & AdaBoost\n",
    "\n",
    "9.1 GBM"
   ]
  },
  {
   "cell_type": "code",
   "execution_count": 38,
   "metadata": {
    "_uuid": "e9515d01ff0d6d2be785e8bbd38e6ef22c4a06cd",
    "execution": {
     "iopub.execute_input": "2023-01-28T02:36:41.495316Z",
     "iopub.status.busy": "2023-01-28T02:36:41.494954Z",
     "iopub.status.idle": "2023-01-28T02:36:42.373130Z",
     "shell.execute_reply": "2023-01-28T02:36:42.372185Z",
     "shell.execute_reply.started": "2023-01-28T02:36:41.495248Z"
    }
   },
   "outputs": [
    {
     "data": {
      "text/plain": [
       "0.8587248433407381"
      ]
     },
     "execution_count": 38,
     "metadata": {},
     "output_type": "execute_result"
    }
   ],
   "source": [
    "from sklearn.ensemble import GradientBoostingClassifier\n",
    "\n",
    "GBMmodel= GradientBoostingClassifier(n_estimators=100, learning_rate=1.0, max_depth=1, random_state=0)\n",
    "\n",
    "GBMmodel.fit(X_train,Y_train)\n",
    "GBMmodel.score(X_train,Y_train)\n"
   ]
  },
  {
   "cell_type": "code",
   "execution_count": 39,
   "metadata": {
    "_uuid": "f1561e682deac29a4d75f47f72e620cdf60484e4",
    "execution": {
     "iopub.execute_input": "2023-01-28T02:36:42.374991Z",
     "iopub.status.busy": "2023-01-28T02:36:42.374582Z",
     "iopub.status.idle": "2023-01-28T02:36:42.395613Z",
     "shell.execute_reply": "2023-01-28T02:36:42.394779Z",
     "shell.execute_reply.started": "2023-01-28T02:36:42.374915Z"
    }
   },
   "outputs": [],
   "source": [
    "Y_test_91= GBMmodel.predict(X_test)"
   ]
  },
  {
   "cell_type": "code",
   "execution_count": 40,
   "metadata": {
    "_uuid": "372dc10901d56185846d630a4428ffb06d8ba0c7",
    "execution": {
     "iopub.execute_input": "2023-01-28T02:36:42.396912Z",
     "iopub.status.busy": "2023-01-28T02:36:42.396699Z",
     "iopub.status.idle": "2023-01-28T02:36:42.429180Z",
     "shell.execute_reply": "2023-01-28T02:36:42.428186Z",
     "shell.execute_reply.started": "2023-01-28T02:36:42.396877Z"
    }
   },
   "outputs": [
    {
     "data": {
      "text/plain": [
       "array([['0', '<=50K'],\n",
       "       ['1', '>50K'],\n",
       "       ['2', '<=50K'],\n",
       "       ...,\n",
       "       ['16277', '<=50K'],\n",
       "       ['16278', '<=50K'],\n",
       "       ['16279', '>50K']], dtype='<U21')"
      ]
     },
     "execution_count": 40,
     "metadata": {},
     "output_type": "execute_result"
    }
   ],
   "source": [
    "Y_test_91_copy = Y_test_91\n",
    "Y_test_91_copy = Y_test_91_copy.tolist()\n",
    "answer = [[\"Id\",\"income\"]]\n",
    "for output in range(len(Y_test_91_copy)):\n",
    "    if Y_test_91_copy[output] == 0:\n",
    "        Y_test_91_copy[output] = '<=50K'\n",
    "    else:\n",
    "        Y_test_91_copy[output] = '>50K'\n",
    "    answer.append([output,Y_test_91_copy[output]])\n",
    "result91 = np.vstack((test_raw[\"Id\"],Y_test_91_copy)).T\n",
    "result91"
   ]
  },
  {
   "cell_type": "markdown",
   "metadata": {
    "_uuid": "8b99a6c03fcd7e62dcf40ad3d6f04d658431e743"
   },
   "source": [
    "9.2 AdaBoost"
   ]
  },
  {
   "cell_type": "code",
   "execution_count": 41,
   "metadata": {
    "_uuid": "26585a7116e3f8e60bc69ca53f35de6cc1067902",
    "execution": {
     "iopub.execute_input": "2023-01-28T02:36:42.430458Z",
     "iopub.status.busy": "2023-01-28T02:36:42.430186Z",
     "iopub.status.idle": "2023-01-28T02:36:44.825256Z",
     "shell.execute_reply": "2023-01-28T02:36:44.824082Z",
     "shell.execute_reply.started": "2023-01-28T02:36:42.430410Z"
    }
   },
   "outputs": [
    {
     "data": {
      "text/plain": [
       "0.8580285799542455"
      ]
     },
     "execution_count": 41,
     "metadata": {},
     "output_type": "execute_result"
    }
   ],
   "source": [
    "from sklearn.ensemble import AdaBoostClassifier\n",
    "\n",
    "ADAmodel= AdaBoostClassifier(n_estimators=100)\n",
    "ADAmodel.fit(X_train,Y_train)\n",
    "ADAmodel.score(X_train,Y_train)\n"
   ]
  },
  {
   "cell_type": "code",
   "execution_count": 42,
   "metadata": {
    "_uuid": "0c9ac4204a4467d02f543f490fe992c47f56c569",
    "execution": {
     "iopub.execute_input": "2023-01-28T02:36:44.826970Z",
     "iopub.status.busy": "2023-01-28T02:36:44.826584Z",
     "iopub.status.idle": "2023-01-28T02:36:44.847746Z",
     "shell.execute_reply": "2023-01-28T02:36:44.846695Z",
     "shell.execute_reply.started": "2023-01-28T02:36:44.826905Z"
    }
   },
   "outputs": [],
   "source": [
    "Y_test_92= GBMmodel.predict(X_test)"
   ]
  },
  {
   "cell_type": "code",
   "execution_count": 43,
   "metadata": {
    "_uuid": "f35fa55e75d8ddf51cb8e24a24820a64e61391c0",
    "execution": {
     "iopub.execute_input": "2023-01-28T02:36:44.852417Z",
     "iopub.status.busy": "2023-01-28T02:36:44.852113Z",
     "iopub.status.idle": "2023-01-28T02:36:44.882530Z",
     "shell.execute_reply": "2023-01-28T02:36:44.881456Z",
     "shell.execute_reply.started": "2023-01-28T02:36:44.852370Z"
    }
   },
   "outputs": [
    {
     "data": {
      "text/plain": [
       "array([['0', '<=50K'],\n",
       "       ['1', '>50K'],\n",
       "       ['2', '<=50K'],\n",
       "       ...,\n",
       "       ['16277', '<=50K'],\n",
       "       ['16278', '<=50K'],\n",
       "       ['16279', '>50K']], dtype='<U21')"
      ]
     },
     "execution_count": 43,
     "metadata": {},
     "output_type": "execute_result"
    }
   ],
   "source": [
    "Y_test_92_copy = Y_test_92\n",
    "Y_test_92_copy = Y_test_92_copy.tolist()\n",
    "answer = [[\"Id\",\"income\"]]\n",
    "for output in range(len(Y_test_92_copy)):\n",
    "    if Y_test_92_copy[output] == 0:\n",
    "        Y_test_92_copy[output] = '<=50K'\n",
    "    else:\n",
    "        Y_test_92_copy[output] = '>50K'\n",
    "    answer.append([output,Y_test_92_copy[output]])\n",
    "result92 = np.vstack((test_raw[\"Id\"],Y_test_92_copy)).T\n",
    "result92"
   ]
  },
  {
   "cell_type": "markdown",
   "metadata": {
    "_uuid": "183800c531700915eb710980c61bcd2659e50123"
   },
   "source": [
    "10. Redes neurais"
   ]
  },
  {
   "cell_type": "code",
   "execution_count": 44,
   "metadata": {
    "_uuid": "32efb593bb4f6d614425c25577a13945040d87da",
    "execution": {
     "iopub.execute_input": "2023-01-28T02:36:44.884236Z",
     "iopub.status.busy": "2023-01-28T02:36:44.883939Z",
     "iopub.status.idle": "2023-01-28T02:36:50.073701Z",
     "shell.execute_reply": "2023-01-28T02:36:50.072410Z",
     "shell.execute_reply.started": "2023-01-28T02:36:44.884173Z"
    }
   },
   "outputs": [
    {
     "data": {
      "text/plain": [
       "0.6046218626703359"
      ]
     },
     "execution_count": 44,
     "metadata": {},
     "output_type": "execute_result"
    }
   ],
   "source": [
    "from sklearn.neural_network import MLPClassifier\n",
    "NNmodel = MLPClassifier(solver='lbfgs', random_state=0)\n",
    "\n",
    "NNmodel.fit(X_train,Y_train)\n",
    "NNmodel.score(X_train,Y_train)\n"
   ]
  },
  {
   "cell_type": "code",
   "execution_count": 45,
   "metadata": {
    "_uuid": "b7cf93b4babdf533e1590ac6da39b6731d7d60a1",
    "execution": {
     "iopub.execute_input": "2023-01-28T02:36:50.088135Z",
     "iopub.status.busy": "2023-01-28T02:36:50.083098Z",
     "iopub.status.idle": "2023-01-28T02:36:50.137981Z",
     "shell.execute_reply": "2023-01-28T02:36:50.136672Z",
     "shell.execute_reply.started": "2023-01-28T02:36:50.087989Z"
    }
   },
   "outputs": [],
   "source": [
    "Y_test_10= NNmodel.predict(X_test)\n"
   ]
  },
  {
   "cell_type": "code",
   "execution_count": 46,
   "metadata": {
    "_uuid": "5108f0aae9d0ec926ad37ea59204cd04044be4a6",
    "execution": {
     "iopub.execute_input": "2023-01-28T02:36:50.151066Z",
     "iopub.status.busy": "2023-01-28T02:36:50.146589Z",
     "iopub.status.idle": "2023-01-28T02:36:50.245221Z",
     "shell.execute_reply": "2023-01-28T02:36:50.243948Z",
     "shell.execute_reply.started": "2023-01-28T02:36:50.150930Z"
    }
   },
   "outputs": [
    {
     "data": {
      "text/plain": [
       "array([['0', '<=50K'],\n",
       "       ['1', '>50K'],\n",
       "       ['2', '<=50K'],\n",
       "       ...,\n",
       "       ['16277', '<=50K'],\n",
       "       ['16278', '<=50K'],\n",
       "       ['16279', '<=50K']], dtype='<U21')"
      ]
     },
     "execution_count": 46,
     "metadata": {},
     "output_type": "execute_result"
    }
   ],
   "source": [
    "Y_test_10_copy = Y_test_10\n",
    "Y_test_10_copy = Y_test_10_copy.tolist()\n",
    "answer = [[\"Id\",\"income\"]]\n",
    "for output in range(len(Y_test_10_copy)):\n",
    "    if Y_test_10_copy[output] == 0:\n",
    "        Y_test_10_copy[output] = '<=50K'\n",
    "    else:\n",
    "        Y_test_10_copy[output] = '>50K'\n",
    "    answer.append([output,Y_test_10_copy[output]])\n",
    "result10 = np.vstack((test_raw[\"Id\"],Y_test_10_copy)).T\n",
    "result10"
   ]
  },
  {
   "cell_type": "code",
   "execution_count": 47,
   "metadata": {
    "_uuid": "7c135527fd504c682c73cb16ae6c6861de625fb4",
    "execution": {
     "iopub.execute_input": "2023-01-28T02:36:50.256509Z",
     "iopub.status.busy": "2023-01-28T02:36:50.255038Z",
     "iopub.status.idle": "2023-01-28T02:36:50.276228Z",
     "shell.execute_reply": "2023-01-28T02:36:50.274891Z",
     "shell.execute_reply.started": "2023-01-28T02:36:50.256411Z"
    }
   },
   "outputs": [],
   "source": [
    "df1 = pd.DataFrame(result4)\n",
    "df2 = pd.DataFrame(result7)\n",
    "df3 = pd.DataFrame(result8)\n",
    "df4 = pd.DataFrame(result10)"
   ]
  },
  {
   "cell_type": "code",
   "execution_count": 48,
   "metadata": {
    "_uuid": "077ebe556fcdbe14a82445099b3ff6a5209a56a3",
    "execution": {
     "iopub.execute_input": "2023-01-28T02:36:50.278340Z",
     "iopub.status.busy": "2023-01-28T02:36:50.277907Z",
     "iopub.status.idle": "2023-01-28T02:36:50.405417Z",
     "shell.execute_reply": "2023-01-28T02:36:50.404257Z",
     "shell.execute_reply.started": "2023-01-28T02:36:50.278250Z"
    }
   },
   "outputs": [],
   "source": [
    "df1.to_csv('result49887402.csv')\n",
    "df2.to_csv('result79887402.csv')\n",
    "df3.to_csv('result89887402.csv')\n",
    "df4.to_csv('result109887402.csv')"
   ]
  },
  {
   "cell_type": "markdown",
   "metadata": {},
   "source": [
    "Com isso, obtevese os seguintes arquivos csv que consistem dos melores previsões que os classificadores conseguiram."
   ]
  }
 ],
 "metadata": {
  "kernelspec": {
   "display_name": "Python 3",
   "language": "python",
   "name": "python3"
  },
  "language_info": {
   "codemirror_mode": {
    "name": "ipython",
    "version": 3
   },
   "file_extension": ".py",
   "mimetype": "text/x-python",
   "name": "python",
   "nbconvert_exporter": "python",
   "pygments_lexer": "ipython3",
   "version": "3.6.4"
  }
 },
 "nbformat": 4,
 "nbformat_minor": 4
}
